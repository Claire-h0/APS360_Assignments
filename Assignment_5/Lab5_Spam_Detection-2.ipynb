{
  "cells": [
    {
      "cell_type": "markdown",
      "metadata": {
        "id": "_bphECiUa9zw"
      },
      "source": [
        "# Lab 5: Spam Detection\n",
        "\n",
        "In this assignment, we will build a recurrent neural network to classify a SMS text message\n",
        "as \"spam\" or \"not spam\". In the process, you will\n",
        "    \n",
        "1. Clean and process text data for machine learning.\n",
        "2. Understand and implement a character-level recurrent neural network.\n",
        "3. Understand batching for a recurrent neural network, and develop custom Dataset and DataLoaders with collate_fn to implement RNN batching.\n",
        "\n",
        "### What to submit\n",
        "\n",
        "Submit a PDF file containing all your code, outputs, and write-up. You can produce a PDF of your Google Colab file by going to File > Print and then save as PDF. The Colab instructions have more information.\n",
        "\n",
        "Do not submit any other files produced by your code.\n",
        "\n",
        "Include a link to your colab file in your submission."
      ]
    },
    {
      "cell_type": "markdown",
      "metadata": {
        "id": "rWiUqJJTa9z6"
      },
      "source": [
        "## Colab Link https://drive.google.com/file/d/1Tr0lCqfFkmYzGEJxw_wdxKHNbNGyihJ4/view?usp=sharing\n",
        "\n",
        "Include a link to your Colab file here. If you would like the TA to look at your\n",
        "Colab file in case your solutions are cut off, **please make sure that your Colab\n",
        "file is publicly accessible at the time of submission**."
      ]
    },
    {
      "cell_type": "code",
      "execution_count": null,
      "metadata": {
        "id": "HgfNOUaPa9z8",
        "tags": []
      },
      "outputs": [],
      "source": [
        "import torch\n",
        "import torch.nn as nn\n",
        "import torch.nn.functional as F\n",
        "import torch.optim as optim\n",
        "import numpy as np\n",
        "from torch.nn.utils.rnn import pad_sequence\n",
        "from torch.utils.data import DataLoader, Dataset"
      ]
    },
    {
      "cell_type": "markdown",
      "metadata": {
        "id": "M0jLI9LBa90C"
      },
      "source": [
        "## Part 1. Data Cleaning [15 pt]\n",
        "\n",
        "We will be using the \"SMS Spam Collection Data Set\" available at http://archive.ics.uci.edu/ml/datasets/SMS+Spam+Collection\n",
        "\n",
        "There is a link to download the \"Data Folder\" at the very top of the webpage. Download the zip file, unzip it, and upload the file `SMSSpamCollection` to Colab.    "
      ]
    },
    {
      "cell_type": "markdown",
      "metadata": {
        "id": "sSuF7C_Ga90E"
      },
      "source": [
        "### Part (a) [1 pt]\n",
        "\n",
        "Open up the file in Python, and print out one example of a spam SMS, and one example of a non-spam SMS.\n",
        "\n",
        "What is the label value for a spam message, and what is the label value for a non-spam message?"
      ]
    },
    {
      "cell_type": "code",
      "source": [
        "from google.colab import drive\n",
        "drive.mount('/content/drive')"
      ],
      "metadata": {
        "colab": {
          "base_uri": "https://localhost:8080/"
        },
        "id": "PRGn-5UnwZCc",
        "outputId": "12a18b13-f788-4d1a-b185-408de9b6f746"
      },
      "execution_count": null,
      "outputs": [
        {
          "output_type": "stream",
          "name": "stdout",
          "text": [
            "Mounted at /content/drive\n"
          ]
        }
      ]
    },
    {
      "cell_type": "code",
      "execution_count": null,
      "metadata": {
        "colab": {
          "base_uri": "https://localhost:8080/"
        },
        "collapsed": true,
        "id": "I_IfXHeTa90F",
        "jupyter": {
          "outputs_hidden": true
        },
        "outputId": "692b211c-5b9a-4222-8f6e-4aac96861d55"
      },
      "outputs": [
        {
          "output_type": "stream",
          "name": "stdout",
          "text": [
            "ham\tGo until jurong point, crazy.. Available only in bugis n great world la e buffet... Cine there got amore wat...\n",
            "\n",
            "spam\tFree entry in 2 a wkly comp to win FA Cup final tkts 21st May 2005. Text FA to 87121 to receive entry question(std txt rate)T&C's apply 08452810075over18's\n",
            "\n"
          ]
        }
      ],
      "source": [
        "#label for spam = spam, non-span = ham\n",
        "for line in open('SMSSpamCollection'):\n",
        "  if line[0] == 'h':\n",
        "    print(line)\n",
        "    break\n",
        "\n",
        "for line in open('SMSSpamCollection'):\n",
        "  if line[0] == \"s\":\n",
        "    print(line)\n",
        "    break"
      ]
    },
    {
      "cell_type": "markdown",
      "metadata": {
        "id": "AukA6vMVa90d"
      },
      "source": [
        "### Part (b) [1 pt]\n",
        "\n",
        "How many spam messages are there in the data set?\n",
        "How many non-spam messages are there in the data set?\n"
      ]
    },
    {
      "cell_type": "code",
      "execution_count": null,
      "metadata": {
        "colab": {
          "base_uri": "https://localhost:8080/"
        },
        "collapsed": true,
        "id": "LgsqyemVa90e",
        "jupyter": {
          "outputs_hidden": true
        },
        "outputId": "75ff43d9-8dca-4099-c897-13370c869aea"
      },
      "outputs": [
        {
          "output_type": "stream",
          "name": "stdout",
          "text": [
            "Spam:\n",
            "747\n",
            "Ham:\n",
            "4827\n"
          ]
        }
      ],
      "source": [
        "spam = 0\n",
        "ham = 0\n",
        "for line in open('SMSSpamCollection'):\n",
        "  if line[0] == 's':\n",
        "    spam += 1\n",
        "  else:\n",
        "    ham += 1\n",
        "print(\"Spam:\")\n",
        "print(spam)\n",
        "print(\"Ham:\")\n",
        "print(ham)"
      ]
    },
    {
      "cell_type": "markdown",
      "metadata": {
        "id": "d1WXxVt6a90h"
      },
      "source": [
        "### Part (c) [4 pt]\n",
        "\n",
        "load and parse the data into two lists: sequences and labels. Create character-level stoi and itos dictionaries. Reserve the index 0 for padding. Convert the sequences to list of character ids using stoi dictionary and convert the labels to a list of 0s and 1s by assinging class \"ham\" to 0 and class \"spam\" to 1."
      ]
    },
    {
      "cell_type": "code",
      "execution_count": null,
      "metadata": {
        "id": "Mhnz8Nk-a90i",
        "tags": []
      },
      "outputs": [],
      "source": [
        "sequences = []\n",
        "labels = []\n",
        "\n",
        "#initialize with pad=0\n",
        "stoi = {'<pad>': 0}\n",
        "itos = {0: '<pad>'}\n",
        "idx = 1\n",
        "\n",
        "for line in open('SMSSpamCollection', 'r', encoding='utf-8'):\n",
        "    line = line.strip()\n",
        "    if not line:\n",
        "        continue\n",
        "\n",
        "    # split label vs text\n",
        "    label, text = line.split('\\t', 1)\n",
        "    labels.append(1 if label == 'spam' else 0)\n",
        "\n",
        "    seq_ids = []\n",
        "    for ch in text:\n",
        "        if ch not in stoi:\n",
        "            stoi[ch] = idx\n",
        "            itos[idx] = ch\n",
        "            idx += 1\n",
        "        seq_ids.append(stoi[ch])\n",
        "\n",
        "    sequences.append(seq_ids)"
      ]
    },
    {
      "cell_type": "markdown",
      "metadata": {
        "id": "ie_D0bv9a90k"
      },
      "source": [
        "### Part (d) [4 pt]\n",
        "\n",
        "Use train_test_split function from sklearn (https://scikit-learn.org/dev/modules/generated/sklearn.model_selection.train_test_split.html) to split the data indices into `train`, `valid`, and `test`. Use a 60-20-20 split.\n",
        "\n",
        "You saw in part (b) that there are many more non-spam messages than spam messages. This **imbalance** in our training data will be problematic for training. We can fix this disparity by duplicating spam messages in the training set, so that the training set is roughly balanced."
      ]
    },
    {
      "cell_type": "code",
      "execution_count": null,
      "metadata": {
        "colab": {
          "base_uri": "https://localhost:8080/"
        },
        "id": "LwqYFjpLsvdf",
        "outputId": "65a31424-5ded-4f2e-d64c-cd4bc107d3d7"
      },
      "outputs": [
        {
          "output_type": "stream",
          "name": "stdout",
          "text": [
            "Training set size: 3344\n",
            "Validation set size: 1115\n",
            "Test set size: 1115\n",
            "Train set before balancing: Ham=2896, Spam=448\n",
            "Train set after balancing: Ham=2896, Spam=3136\n",
            "Final training set size: 6032\n"
          ]
        }
      ],
      "source": [
        "from sklearn.model_selection import train_test_split\n",
        "\n",
        "indices = list(range(len(sequences)))\n",
        "\n",
        "train_index, temp_index = train_test_split(indices, test_size=0.4, random_state=42, stratify=labels)\n",
        "\n",
        "val_index, test_index = train_test_split(temp_index, test_size=0.5, random_state=42,\n",
        "                                        stratify=[labels[i] for i in temp_index])\n",
        "\n",
        "#create train, validation, and test sets\n",
        "train_x = [sequences[idx] for idx in train_index]\n",
        "train_y = [labels[idx] for idx in train_index]\n",
        "val_x = [sequences[idx] for idx in val_index]\n",
        "val_y = [labels[idx] for idx in val_index]\n",
        "test_x = [sequences[idx] for idx in test_index]\n",
        "test_y = [labels[idx] for idx in test_index]\n",
        "\n",
        "print(f\"Training set size: {len(train_x)}\")\n",
        "print(f\"Validation set size: {len(val_x)}\")\n",
        "print(f\"Test set size: {len(test_x)}\")\n",
        "\n",
        "train_ham = sum(1 for label in train_y if label == 0)\n",
        "train_spam_count = sum(1 for label in train_y if label == 1)\n",
        "print(f\"Train set before balancing: Ham={train_ham}, Spam={train_spam_count}\")\n",
        "\n",
        "#balance the train classes\n",
        "train_spam = []\n",
        "for idx, item in enumerate(train_x):\n",
        "    if train_y[idx] == 1:\n",
        "        train_spam.append(item)\n",
        "\n",
        "#duplicate spam message\n",
        "train_x = train_x + train_spam * 6\n",
        "train_y = train_y + [1] * (len(train_spam) * 6)\n",
        "\n",
        "train_ham_after = sum(1 for label in train_y if label == 0)\n",
        "train_spam_after = sum(1 for label in train_y if label == 1)\n",
        "print(f\"Train set after balancing: Ham={train_ham_after}, Spam={train_spam_after}\")\n",
        "print(f\"Final training set size: {len(train_x)}\")"
      ]
    },
    {
      "cell_type": "markdown",
      "metadata": {
        "id": "v6nP0Ks_a90o"
      },
      "source": [
        "### Part (e) [4 pt]\n",
        "\n",
        "Since each sequence has a different length, we cannot use the default DataLoader. We need to change the DataLoader such that it can pad differnt sequence sizes within the batch. To do this, we need to introduce a **collate_fn** to the DataLoader such that it uses **pad_sequence** function (https://pytorch.org/docs/stable/generated/torch.nn.utils.rnn.pad_sequence.html) to pad the sequences within the batch to the same size.\n",
        "\n",
        "We also need a custom Dataset class to return a pair of sequence and label for each example. Complete the code below to address these.\n",
        "\n",
        "Hint:\n",
        "- https://stanford.edu/~shervine/blog/pytorch-how-to-generate-data-parallel\n",
        "- https://plainenglish.io/blog/understanding-collate-fn-in-pytorch-f9d1742647d3"
      ]
    },
    {
      "cell_type": "code",
      "execution_count": null,
      "metadata": {
        "collapsed": true,
        "id": "FWvx9_rka90p",
        "jupyter": {
          "outputs_hidden": true
        }
      },
      "outputs": [],
      "source": [
        "class MyDataset(Dataset):\n",
        "    def __init__(self, sequences, labels):\n",
        "        self.sequences = sequences\n",
        "        self.labels = labels\n",
        "\n",
        "    def __len__(self):\n",
        "        return len(self.sequences)\n",
        "\n",
        "    def __getitem__(self, idx):\n",
        "        sequence = torch.tensor(self.sequences[idx], dtype=torch.long)\n",
        "        label = torch.tensor(self.labels[idx], dtype=torch.long)\n",
        "        return sequence, label\n",
        "\n",
        "def collate_sequences(batch):\n",
        "    sequences = [item[0] for item in batch]\n",
        "    labels = torch.tensor([item[1] for item in batch], dtype=torch.long)\n",
        "\n",
        "    padded_sequences = pad_sequence(sequences, batch_first=True, padding_value=0.0)\n",
        "\n",
        "    return padded_sequences, labels\n",
        "\n",
        "#DataLoaders\n",
        "train_loader = DataLoader(dataset=MyDataset(train_x, train_y), batch_size=32, shuffle=True, collate_fn=collate_sequences)\n",
        "val_loader = DataLoader(dataset=MyDataset(val_x, val_y), batch_size=32, shuffle=False, collate_fn=collate_sequences)\n",
        "test_loader = DataLoader(dataset=MyDataset(test_x, test_y), batch_size=32, shuffle=False, collate_fn=collate_sequences)"
      ]
    },
    {
      "cell_type": "markdown",
      "metadata": {
        "id": "Ff5CNk7Qa90y"
      },
      "source": [
        "### Part (f) [1 pt]\n",
        "\n",
        "Take a look at 10 batches in `train_loader`. What is the maximum length of the\n",
        "input sequence in each batch? How many `<pad>` tokens are used in each of the 10\n",
        "batches?\n"
      ]
    },
    {
      "cell_type": "code",
      "execution_count": null,
      "metadata": {
        "colab": {
          "base_uri": "https://localhost:8080/"
        },
        "id": "Qwz-rOaha902",
        "tags": [],
        "outputId": "a01544c5-81b1-48fa-b955-5a52f52be7d7"
      },
      "outputs": [
        {
          "output_type": "stream",
          "name": "stdout",
          "text": [
            "Batch 1:\n",
            "  Maximum sequence length: 167\n",
            "  Number of padding tokens: 2253\n",
            "Batch 2:\n",
            "  Maximum sequence length: 160\n",
            "  Number of padding tokens: 2241\n",
            "Batch 3:\n",
            "  Maximum sequence length: 247\n",
            "  Number of padding tokens: 4622\n",
            "Batch 4:\n",
            "  Maximum sequence length: 160\n",
            "  Number of padding tokens: 2544\n",
            "Batch 5:\n",
            "  Maximum sequence length: 161\n",
            "  Number of padding tokens: 2171\n",
            "Batch 6:\n",
            "  Maximum sequence length: 180\n",
            "  Number of padding tokens: 2343\n",
            "Batch 7:\n",
            "  Maximum sequence length: 183\n",
            "  Number of padding tokens: 1994\n",
            "Batch 8:\n",
            "  Maximum sequence length: 281\n",
            "  Number of padding tokens: 5611\n",
            "Batch 9:\n",
            "  Maximum sequence length: 160\n",
            "  Number of padding tokens: 1857\n",
            "Batch 10:\n",
            "  Maximum sequence length: 160\n",
            "  Number of padding tokens: 1580\n"
          ]
        }
      ],
      "source": [
        "#counter - only up to 10\n",
        "batch_count = 0\n",
        "\n",
        "for batch in train_loader:\n",
        "    if batch_count >= 10:\n",
        "        break\n",
        "\n",
        "    sequences, _ = batch\n",
        "    batch_size = sequences.size(0)\n",
        "    max_length = sequences.size(1)\n",
        "\n",
        "    pad_count = torch.sum(sequences == 0).item()\n",
        "\n",
        "    print(f\"Batch {batch_count + 1}:\")\n",
        "    print(f\"  Maximum sequence length: {max_length}\")\n",
        "    print(f\"  Number of padding tokens: {pad_count}\")\n",
        "\n",
        "    batch_count += 1"
      ]
    },
    {
      "cell_type": "markdown",
      "metadata": {
        "id": "y7HnqP6_a904"
      },
      "source": [
        "## Part 2. Model Building [8 pt]\n",
        "\n",
        "Build a recurrent neural network model, using an architecture of your choosing.\n",
        "Use the one-hot embedding of each character as input to your recurrent network.\n",
        "Use one or more fully-connected layers to make the prediction based on your\n",
        "recurrent network output.\n",
        "\n",
        "Instead of using the RNN output value for the final token, another often used\n",
        "strategy is to max-pool over the entire output array. That is, instead of calling\n",
        "something like:\n",
        "\n",
        "```\n",
        "out, _ = self.rnn(x)\n",
        "self.fc(out[:, -1, :])\n",
        "```\n",
        "\n",
        "where `self.rnn` is an `nn.RNN`, `nn.GRU`, or `nn.LSTM` module, and `self.fc` is a\n",
        "fully-connected\n",
        "layer, we use:\n",
        "\n",
        "```\n",
        "out, _ = self.rnn(x)\n",
        "self.fc(torch.max(out, dim=1)[0])\n",
        "```\n",
        "\n",
        "This works reasonably in practice. An even better alternative is to concatenate the\n",
        "max-pooling and average-pooling of the RNN outputs:\n",
        "\n",
        "```\n",
        "out, _ = self.rnn(x)\n",
        "out = torch.cat([torch.max(out, dim=1)[0],\n",
        "                 torch.mean(out, dim=1)], dim=1)\n",
        "self.fc(out)\n",
        "```\n",
        "\n",
        "We encourage you to try out all these options. The way you pool the RNN outputs\n",
        "is one of the \"hyperparameters\" that you can choose to tune later on."
      ]
    },
    {
      "cell_type": "code",
      "execution_count": null,
      "metadata": {
        "collapsed": true,
        "id": "jHl1p_Wwa905",
        "jupyter": {
          "outputs_hidden": true
        },
        "colab": {
          "base_uri": "https://localhost:8080/"
        },
        "outputId": "780807b5-a440-4234-d087-b0af07cc0feb"
      },
      "outputs": [
        {
          "output_type": "stream",
          "name": "stdout",
          "text": [
            "tensor([1., 0., 0., 0., 0., 0., 0., 0., 0., 0.])\n",
            "tensor([0., 1., 0., 0., 0., 0., 0., 0., 0., 0.])\n",
            "tensor([[[0., 1., 0., 0., 0., 0., 0., 0., 0., 0.],\n",
            "         [0., 0., 1., 0., 0., 0., 0., 0., 0., 0.]],\n",
            "\n",
            "        [[0., 0., 0., 1., 0., 0., 0., 0., 0., 0.],\n",
            "         [0., 0., 0., 0., 1., 0., 0., 0., 0., 0.]]])\n"
          ]
        }
      ],
      "source": [
        "# You might find this code helpful for obtaining\n",
        "# PyTorch one-hot vectors.\n",
        "\n",
        "ident = torch.eye(10)\n",
        "print(ident[0]) # one-hot vector\n",
        "print(ident[1]) # one-hot vector\n",
        "x = torch.tensor([[1, 2], [3, 4]])\n",
        "print(ident[x]) # one-hot vectors"
      ]
    },
    {
      "cell_type": "code",
      "execution_count": null,
      "metadata": {
        "collapsed": true,
        "id": "4LTQ7zFka909",
        "jupyter": {
          "outputs_hidden": true
        }
      },
      "outputs": [],
      "source": [
        "class SpamRNN(nn.Module):\n",
        "    def __init__(self, vocab_size, embedding_dim, hidden_dim, output_dim, num_layers=2, dropout=0.5):\n",
        "        super(SpamRNN, self).__init__()\n",
        "\n",
        "        # one-hot embedding layer\n",
        "        self.embedding = nn.Embedding(vocab_size, embedding_dim)\n",
        "\n",
        "        with torch.no_grad():\n",
        "            self.embedding.weight.copy_(torch.eye(vocab_size))\n",
        "            self.embedding.weight.requires_grad = False\n",
        "\n",
        "        self.lstm = nn.LSTM(embedding_dim, hidden_dim, num_layers=num_layers,\n",
        "                           batch_first=True, dropout=dropout if num_layers > 1 else 0)\n",
        "\n",
        "        self.fc1 = nn.Linear(hidden_dim * 2, hidden_dim)\n",
        "        self.fc2 = nn.Linear(hidden_dim, output_dim)\n",
        "\n",
        "        self.dropout = nn.Dropout(dropout)\n",
        "        self.relu = nn.ReLU()\n",
        "\n",
        "    def forward(self, x):\n",
        "\n",
        "        embedded = self.embedding(x)\n",
        "\n",
        "        out, (hidden, cell) = self.lstm(embedded)\n",
        "\n",
        "        max_pool = torch.max(out, dim=1)[0]\n",
        "        avg_pool = torch.mean(out, dim=1)\n",
        "        combined = torch.cat([max_pool, avg_pool], dim=1)\n",
        "\n",
        "        out = self.dropout(combined)\n",
        "        out = self.relu(self.fc1(out))\n",
        "        out = self.dropout(out)\n",
        "        out = self.fc2(out)\n",
        "\n",
        "        return out\n",
        "\n",
        "vocab_size = len(stoi)\n",
        "embedding_dim = vocab_size\n",
        "hidden_dim = 128\n",
        "output_dim = 2\n",
        "\n",
        "model = SpamRNN(vocab_size, embedding_dim, hidden_dim, output_dim)"
      ]
    },
    {
      "cell_type": "markdown",
      "metadata": {
        "id": "vKIYPl_Ba90_"
      },
      "source": [
        "## Part 3. Training [16 pt]\n",
        "\n",
        "### Part (a) [4 pt]\n",
        "\n",
        "Complete the `get_accuracy` function, which will compute the\n",
        "accuracy (rate) of your model across a dataset (e.g. validation set)."
      ]
    },
    {
      "cell_type": "code",
      "execution_count": null,
      "metadata": {
        "collapsed": true,
        "id": "pvNfhGD6a91A",
        "jupyter": {
          "outputs_hidden": true
        }
      },
      "outputs": [],
      "source": [
        "def get_accuracy(model, data):\n",
        "    \"\"\" Compute the accuracy of the `model` across a dataset `data`\n",
        "\n",
        "    Example usage:\n",
        "\n",
        "    >>> model = MyRNN() # to be defined\n",
        "    >>> get_accuracy(model, valid) # the variable `valid` is from above\n",
        "    \"\"\"\n",
        "    model.eval()\n",
        "    correct = 0\n",
        "    total = 0\n",
        "\n",
        "    with torch.no_grad():\n",
        "        for batch in data:\n",
        "            sequences, labels = batch\n",
        "            outputs = model(sequences)\n",
        "            _, predicted = torch.max(outputs.data, 1)\n",
        "            total += labels.size(0)\n",
        "            correct += (predicted == labels).sum().item()\n",
        "\n",
        "    accuracy = correct / total\n",
        "    return accuracy"
      ]
    },
    {
      "cell_type": "markdown",
      "metadata": {
        "id": "TlxlcAC1a91C"
      },
      "source": [
        "### Part (b) [4 pt]\n",
        "\n",
        "Train your model. Plot the training curve of your final model.\n",
        "Your training curve should have the training/validation loss and\n",
        "accuracy plotted periodically.\n",
        "\n",
        "Note: Not all of your batches will have the same batch size.\n",
        "In particular, if your training set does not divide evenly by\n",
        "your batch size, there will be a batch that is smaller than\n",
        "the rest."
      ]
    },
    {
      "cell_type": "code",
      "execution_count": null,
      "metadata": {
        "collapsed": true,
        "id": "CVtf7CJCa91D",
        "jupyter": {
          "outputs_hidden": true
        }
      },
      "outputs": [],
      "source": [
        "import matplotlib.pyplot as plt\n",
        "\n",
        "def train_model(model, train_loader, val_loader, num_epochs, learning_rate, device):\n",
        "\n",
        "    criterion = nn.CrossEntropyLoss()\n",
        "    optimizer = optim.Adam(model.parameters(), lr=learning_rate)\n",
        "\n",
        "    history = {\n",
        "        'train_losses': [],\n",
        "        'val_losses': [],\n",
        "        'train_accuracies': [],\n",
        "        'val_accuracies': []\n",
        "    }\n",
        "\n",
        "    print_every = 1  #print every epoch\n",
        "\n",
        "    #training loop\n",
        "    for epoch in range(num_epochs):\n",
        "        model.train()\n",
        "        running_loss = 0.0\n",
        "        for batch in train_loader:\n",
        "            sequences, labels = batch\n",
        "            sequences, labels = sequences.to(device), labels.to(device)\n",
        "\n",
        "            optimizer.zero_grad()\n",
        "\n",
        "            #forward pass\n",
        "            outputs = model(sequences)\n",
        "            loss = criterion(outputs, labels)\n",
        "\n",
        "            #backward pass and optimize\n",
        "            loss.backward()\n",
        "            optimizer.step()\n",
        "\n",
        "            running_loss += loss.item()\n",
        "\n",
        "        avg_train_loss = running_loss / len(train_loader)\n",
        "        history['train_losses'].append(avg_train_loss)\n",
        "        train_acc = get_accuracy(model, train_loader)\n",
        "        history['train_accuracies'].append(train_acc)\n",
        "\n",
        "        #validation phase\n",
        "        model.eval()\n",
        "        val_loss = 0.0\n",
        "        with torch.no_grad():\n",
        "            for batch in val_loader:\n",
        "                sequences, labels = batch\n",
        "                sequences, labels = sequences.to(device), labels.to(device)\n",
        "                outputs = model(sequences)\n",
        "                loss = criterion(outputs, labels)\n",
        "                val_loss += loss.item()\n",
        "\n",
        "        avg_val_loss = val_loss / len(val_loader)\n",
        "        history['val_losses'].append(avg_val_loss)\n",
        "        val_acc = get_accuracy(model, val_loader)\n",
        "        history['val_accuracies'].append(val_acc)\n",
        "\n",
        "        if (epoch + 1) % print_every == 0:\n",
        "            print(f'Epoch [{epoch+1}/{num_epochs}]')\n",
        "            print(f'Train Loss: {avg_train_loss:.4f}, Train Acc: {train_acc:.4f}')\n",
        "            print(f'Val Loss: {avg_val_loss:.4f}, Val Acc: {val_acc:.4f}')\n",
        "\n",
        "    return history\n",
        "\n",
        "def plot_training_history(history):\n",
        "    plt.figure(figsize=(12, 4))\n",
        "\n",
        "    # Plot loss\n",
        "    plt.subplot(1, 2, 1)\n",
        "    plt.plot(history['train_losses'], label='Train Loss')\n",
        "    plt.plot(history['val_losses'], label='Validation Loss')\n",
        "    plt.xlabel('Epoch')\n",
        "    plt.ylabel('Loss')\n",
        "    plt.title('Training and Validation Loss')\n",
        "    plt.legend()\n",
        "\n",
        "    # Plot accuracy\n",
        "    plt.subplot(1, 2, 2)\n",
        "    plt.plot(history['train_accuracies'], label='Train Accuracy')\n",
        "    plt.plot(history['val_accuracies'], label='Validation Accuracy')\n",
        "    plt.xlabel('Epoch')\n",
        "    plt.ylabel('Accuracy')\n",
        "    plt.title('Training and Validation Accuracy')\n",
        "    plt.legend()\n",
        "\n",
        "    plt.tight_layout()\n",
        "    plt.show()"
      ]
    },
    {
      "cell_type": "code",
      "source": [
        "#baseline model\n",
        "device = torch.device(\"cuda\" if torch.cuda.is_available() else \"cpu\")\n",
        "\n",
        "baseline_config = {\n",
        "    'hidden_dim': 128,\n",
        "    'num_layers': 2,\n",
        "    'dropout': 0.5,\n",
        "    'num_epochs': 10,\n",
        "    'learning_rate': 0.001\n",
        "}\n",
        "\n",
        "baseline_model = SpamRNN(vocab_size=len(stoi),\n",
        "                        embedding_dim=len(stoi),\n",
        "                        hidden_dim=baseline_config['hidden_dim'],\n",
        "                        output_dim=2,\n",
        "                        num_layers=baseline_config['num_layers'],\n",
        "                        dropout=baseline_config['dropout']).to(device)\n",
        "\n",
        "baseline_history = train_model(baseline_model,\n",
        "                              train_loader,\n",
        "                              val_loader,\n",
        "                              baseline_config['num_epochs'],\n",
        "                              baseline_config['learning_rate'],\n",
        "                              device)\n",
        "\n",
        "#plot\n",
        "plot_training_history(baseline_history)"
      ],
      "metadata": {
        "colab": {
          "base_uri": "https://localhost:8080/",
          "height": 928
        },
        "id": "549e5iOmz-XO",
        "outputId": "100182f7-f179-42e3-e7bb-c01d549423ab"
      },
      "execution_count": null,
      "outputs": [
        {
          "output_type": "stream",
          "name": "stdout",
          "text": [
            "Epoch [1/10]\n",
            "Train Loss: 0.4577, Train Acc: 0.9428\n",
            "Val Loss: 0.1378, Val Acc: 0.9507\n",
            "Epoch [2/10]\n",
            "Train Loss: 0.1918, Train Acc: 0.9282\n",
            "Val Loss: 0.1013, Val Acc: 0.9740\n",
            "Epoch [3/10]\n",
            "Train Loss: 0.1608, Train Acc: 0.9639\n",
            "Val Loss: 0.0809, Val Acc: 0.9767\n",
            "Epoch [4/10]\n",
            "Train Loss: 0.1140, Train Acc: 0.9637\n",
            "Val Loss: 0.1358, Val Acc: 0.9543\n",
            "Epoch [5/10]\n",
            "Train Loss: 0.1049, Train Acc: 0.9736\n",
            "Val Loss: 0.0854, Val Acc: 0.9758\n",
            "Epoch [6/10]\n",
            "Train Loss: 0.0950, Train Acc: 0.9733\n",
            "Val Loss: 0.0828, Val Acc: 0.9767\n",
            "Epoch [7/10]\n",
            "Train Loss: 0.0865, Train Acc: 0.9798\n",
            "Val Loss: 0.0840, Val Acc: 0.9749\n",
            "Epoch [8/10]\n",
            "Train Loss: 0.0777, Train Acc: 0.9796\n",
            "Val Loss: 0.0634, Val Acc: 0.9830\n",
            "Epoch [9/10]\n",
            "Train Loss: 0.0588, Train Acc: 0.9821\n",
            "Val Loss: 0.1105, Val Acc: 0.9632\n",
            "Epoch [10/10]\n",
            "Train Loss: 0.0515, Train Acc: 0.9833\n",
            "Val Loss: 0.0666, Val Acc: 0.9821\n"
          ]
        },
        {
          "output_type": "display_data",
          "data": {
            "text/plain": [
              "<Figure size 1200x400 with 2 Axes>"
            ],
            "image/png": "[encoded data removed]"
          },
          "metadata": {}
        }
      ]
    },
    {
      "cell_type": "markdown",
      "metadata": {
        "id": "fE3eRkDAa91F"
      },
      "source": [
        "### Part (c) [4 pt]\n",
        "\n",
        "Choose at least 4 hyperparameters to tune. Explain how you tuned the hyperparameters.\n",
        "You don't need to include your training curve for every model you trained.\n",
        "Instead, explain what hyperparemters you tuned, what the best validation accuracy was,\n",
        "and the reasoning behind the hyperparameter decisions you made.\n",
        "\n",
        "For this assignment, you should tune more than just your learning rate and epoch.\n",
        "Choose at least 2 hyperparameters that are unrelated to the optimizer."
      ]
    },
    {
      "cell_type": "markdown",
      "source": [
        "**Answer**\n",
        "\n",
        "### Tune 1:  \n",
        "From the baseline model there seems to be a large gap between the training and validation accuracy and the validation loss plateaus very early on. Therefore, this model seems to be memorizing training data (overfitting) due to the high capacity. I will try to improve this by changing the parameters by increasing the dropout to 0.7 to increase regularization, reduce the hidden dimensions to 64 to reduce model capacity, and increase the number of epochs to 15.  \n",
        "\n",
        "*tune1_config = {'hidden_dim': 64, 'num_layers': 2, 'dropout': 0.7,    \n",
        "'num_epochs': 15, 'learning_rate': 0.001\n",
        "}*\n",
        "\n",
        "\n",
        "### Tune 2:\n",
        "The results of the previous tune imporved greatly. The loss curves decrease together now and more earlier, and the space between the accuracy curves are closer together. However it seems to straighten out early on in the epochs which might mean that the model learns to generalize the patterns too quickly. To fix this I will try to increase the hidden layers a little bit for more capacity, reduce the regularization, increase training time, and rate.\n",
        "\n",
        "*tune4_config = {'hidden_dim': 96, 'num_layers': 2, 'dropout': 0.5, 'num_epochs': 20,'learning_rate': 0.002}*\n",
        "\n",
        "### Tune 3:\n",
        "This resulted in the validation loss and accuracy charts to be very straight, did not follow the training curves. To fix this I want to try and decreasing the learning rate, increase the hidden dimension, reduce the dropout a little more, and add more layers for complexity.\n",
        "\n",
        "*tune1_config = {'hidden_dim': 256, 'num_layers': 2, 'dropout': 0.3 'num_epochs': 20,'learning_rate': 0.0005\n",
        "}*\n",
        "\n",
        "### Tune 4:\n",
        "This result had early training instability (loss spikes/accuracy dips around epochs 2-3). To try and fix this further I tried these new parameters:\n",
        "\n",
        "*tune1_config = {'hidden_dim': 112, 'num_layers': 2, 'dropout': 0.4, 'num_epochs': 25, 'learning_rate': 0.0008,'batch_size': 48}*\n",
        "This didn't really improve the results, it was more scattered and had a wider gap between the curves.\n",
        "\n",
        "In the end, I think that tune 3 produced the best results, even though there were spikes during the early epochs."
      ],
      "metadata": {
        "id": "y2WWmBFuDKf6"
      }
    },
    {
      "cell_type": "code",
      "execution_count": null,
      "metadata": {
        "id": "A2GEWfDca91G",
        "jupyter": {
          "outputs_hidden": true
        }
      },
      "outputs": [],
      "source": [
        "tune5_config = {\n",
        "    'hidden_dim': 128,       # Increased from 96 (more representational power)\n",
        "    'num_layers': 2,         # Kept same\n",
        "    'dropout': 0.3,          # Reduced from 0.5 (less regularization)\n",
        "    'num_epochs': 15,        # Extended training\n",
        "    'learning_rate': 0.0005,  # Slightly reduced from 0.002\n",
        "    'batch_size': 64              # Increased from 32\n",
        "}\n",
        "\n",
        "# Update DataLoader with new batch_size\n",
        "train_loader = DataLoader(MyDataset(train_x, train_y),\n",
        "                         batch_size=tune5_config['batch_size'],\n",
        "                         shuffle=True,\n",
        "                         collate_fn=collate_sequences)\n",
        "\n",
        "tune5_model = SpamRNN(\n",
        "    vocab_size=len(stoi),\n",
        "    embedding_dim=len(stoi),\n",
        "    hidden_dim=tune5_config['hidden_dim'],\n",
        "    output_dim=2,\n",
        "    num_layers=tune5_config['num_layers'],\n",
        "    dropout=tune5_config['dropout']\n",
        ").to(device)\n",
        "\n",
        "tune5_history = train_model(\n",
        "    tune5_model,\n",
        "    train_loader,\n",
        "    val_loader,\n",
        "    tune5_config['num_epochs'],\n",
        "    tune5_config['learning_rate'],\n",
        "    device\n",
        ")\n",
        "plot_training_history(tune5_history)"
      ]
    },
    {
      "cell_type": "markdown",
      "metadata": {
        "id": "v7DY56rKa91I"
      },
      "source": [
        "### Part (d) [2 pt]\n",
        "\n",
        "Before we deploy a machine learning model, we usually want to have a better understanding\n",
        "of how our model performs beyond its validation accuracy. An important metric to track is\n",
        "*how well our model performs in certain subsets of the data*.\n",
        "\n",
        "In particular, what is the model's error rate amongst data with negative labels?\n",
        "This is called the **false positive rate**.\n",
        "\n",
        "What about the model's error rate amongst data with positive labels?\n",
        "This is called the **false negative rate**.\n",
        "\n",
        "Report your final model's false positive and false negative rate across the\n",
        "validation set."
      ]
    },
    {
      "cell_type": "code",
      "execution_count": null,
      "metadata": {
        "id": "7ggbQSdba91J",
        "jupyter": {
          "outputs_hidden": true
        },
        "colab": {
          "base_uri": "https://localhost:8080/",
          "height": 211
        },
        "outputId": "44021dc4-e2e6-47a1-e2dc-4588c405b131"
      },
      "outputs": [
        {
          "output_type": "error",
          "ename": "NameError",
          "evalue": "name 'tune1_model' is not defined",
          "traceback": [
            "\u001b[0;31m---------------------------------------------------------------------------\u001b[0m",
            "\u001b[0;31mNameError\u001b[0m                                 Traceback (most recent call last)",
            "\u001b[0;32m/tmp/ipython-input-1191025015.py\u001b[0m in \u001b[0;36m<cell line: 0>\u001b[0;34m()\u001b[0m\n\u001b[1;32m     16\u001b[0m                                 collate_fn=collate_sequences)\n\u001b[1;32m     17\u001b[0m \u001b[0;34m\u001b[0m\u001b[0m\n\u001b[0;32m---> 18\u001b[0;31m \u001b[0mfn\u001b[0m \u001b[0;34m=\u001b[0m \u001b[0;36m1\u001b[0m \u001b[0;34m-\u001b[0m \u001b[0mget_accuracy\u001b[0m\u001b[0;34m(\u001b[0m\u001b[0mtune1_model\u001b[0m\u001b[0;34m,\u001b[0m \u001b[0mvalid_spam_loader\u001b[0m\u001b[0;34m)\u001b[0m\u001b[0;34m\u001b[0m\u001b[0;34m\u001b[0m\u001b[0m\n\u001b[0m\u001b[1;32m     19\u001b[0m \u001b[0mfp\u001b[0m \u001b[0;34m=\u001b[0m \u001b[0;36m1\u001b[0m \u001b[0;34m-\u001b[0m \u001b[0mget_accuracy\u001b[0m\u001b[0;34m(\u001b[0m\u001b[0mtune1_model\u001b[0m\u001b[0;34m,\u001b[0m \u001b[0mvalid_nospam_loader\u001b[0m\u001b[0;34m)\u001b[0m\u001b[0;34m\u001b[0m\u001b[0;34m\u001b[0m\u001b[0m\n\u001b[1;32m     20\u001b[0m \u001b[0;34m\u001b[0m\u001b[0m\n",
            "\u001b[0;31mNameError\u001b[0m: name 'tune1_model' is not defined"
          ]
        }
      ],
      "source": [
        "valid_spam_indices = [i for i, label in enumerate(val_y) if label == 1]\n",
        "valid_nospam_indices = [i for i, label in enumerate(val_y) if label == 0]\n",
        "\n",
        "valid_spam_x = [val_x[i] for i in valid_spam_indices]\n",
        "valid_spam_y = [val_y[i] for i in valid_spam_indices]\n",
        "valid_nospam_x = [val_x[i] for i in valid_nospam_indices]\n",
        "valid_nospam_y = [val_y[i] for i in valid_nospam_indices]\n",
        "\n",
        "valid_spam_loader = DataLoader(dataset=MyDataset(valid_spam_x, valid_spam_y),\n",
        "                              batch_size=32,\n",
        "                              shuffle=False,\n",
        "                              collate_fn=collate_sequences)\n",
        "valid_nospam_loader = DataLoader(dataset=MyDataset(valid_nospam_x, valid_nospam_y),\n",
        "                                batch_size=32,\n",
        "                                shuffle=False,\n",
        "                                collate_fn=collate_sequences)\n",
        "\n",
        "fn = 1 - get_accuracy(tune5_history, valid_spam_loader)\n",
        "fp = 1 - get_accuracy(tune5_history, valid_nospam_loader)\n",
        "\n",
        "print(\"False Negative Rate: \", fn*100, \"%\")\n",
        "print(\"False Positive Rate: \", fp*100, \"%\")"
      ]
    },
    {
      "cell_type": "markdown",
      "metadata": {
        "id": "N1iRteb3a91O"
      },
      "source": [
        "### Part (e) [2 pt]\n",
        "\n",
        "The impact of a false positive vs a false negative can be drastically different.\n",
        "If our spam detection algorithm was deployed on your phone, what is the impact\n",
        "of a false positive on the phone's user? What is the impact of a false negative?"
      ]
    },
    {
      "cell_type": "markdown",
      "source": [
        "\n",
        "**Answer**\n",
        "\n",
        "\n",
        "A false positive is when a real message would be marked as spam. Bad because you might miss an important message and sent directly to spam.\n",
        "\n",
        "A false negative is when a spam message would be marked as real. Bad because spam messages will show up in your inbox.\n"
      ],
      "metadata": {
        "id": "sL0E2upQXWi7"
      }
    },
    {
      "cell_type": "markdown",
      "metadata": {
        "id": "Gznefulsa91V"
      },
      "source": [
        "## Part 4. Evaluation [11 pt]\n",
        "\n",
        "### Part (a) [1 pt]\n",
        "\n",
        "Report the final test accuracy of your model."
      ]
    },
    {
      "cell_type": "code",
      "execution_count": null,
      "metadata": {
        "collapsed": true,
        "id": "D5L5D-A1a91W",
        "jupyter": {
          "outputs_hidden": true
        }
      },
      "outputs": [],
      "source": [
        "final_test_accuracy = get_accuracy(tune5_history, test_loader)\n",
        "print(\"The final test accuracy is:\", final_test_accuracy*100, \"%\")"
      ]
    },
    {
      "cell_type": "markdown",
      "metadata": {
        "id": "6Hjmd8rca91Y"
      },
      "source": [
        "### Part (b) [3 pt]\n",
        "\n",
        "Report the false positive rate and false negative rate of your model across the test set."
      ]
    },
    {
      "cell_type": "code",
      "execution_count": null,
      "metadata": {
        "collapsed": true,
        "id": "GFiAKztJa91Z",
        "jupyter": {
          "outputs_hidden": true
        }
      },
      "outputs": [],
      "source": [
        "test_spam_indices = [i for i, label in enumerate(test_y) if label == 1]\n",
        "test_nospam_indices = [i for i, label in enumerate(test_y) if label == 0]\n",
        "\n",
        "test_spam_x = [test_x[i] for i in test_spam_indices]\n",
        "test_spam_y = [test_y[i] for i in test_spam_indices]\n",
        "test_nospam_x = [test_x[i] for i in test_nospam_indices]\n",
        "test_nospam_y = [test_y[i] for i in test_nospam_indices]\n",
        "\n",
        "test_spam_loader = DataLoader(dataset=MyDataset(test_spam_x, test_spam_y),\n",
        "                              batch_size=32,\n",
        "                              shuffle=False,\n",
        "                              collate_fn=collate_sequences)\n",
        "test_nospam_loader = DataLoader(dataset=MyDataset(test_nospam_x, test_nospam_y),\n",
        "                                batch_size=32,\n",
        "                                shuffle=False,\n",
        "                                collate_fn=collate_sequences)\n",
        "\n",
        "test_fn = 1 - get_accuracy(tune5_history, test_spam_loader)\n",
        "test_fp = 1 - get_accuracy(tune5_history, test_nospam_loader)\n",
        "\n",
        "print(\"Test False Negative Rate: \", test_fn*100, \"%\")\n",
        "print(\"Test False Positive Rate: \", test_fp*100, \"%\")"
      ]
    },
    {
      "cell_type": "markdown",
      "metadata": {
        "id": "0jGHtQFpa91b"
      },
      "source": [
        "### Part (c) [3 pt]\n",
        "\n",
        "What is your model's prediction of the **probability** that\n",
        "the SMS message \"machine learning is sooo cool!\" is spam?\n",
        "\n",
        "Hint: To begin, use `stoi` to look up the index\n",
        "of each character in the vocabulary."
      ]
    },
    {
      "cell_type": "code",
      "execution_count": null,
      "metadata": {
        "id": "h_2nSJq8a91b",
        "jupyter": {
          "outputs_hidden": true
        }
      },
      "outputs": [],
      "source": [
        "msg = \"machine learning is sooo cool!\"\n",
        "\n",
        "msg_sequence = [stoi.get(char, 0) for char in msg]\n",
        "\n",
        "msg_tensor = torch.tensor(msg_sequence, dtype=torch.long).unsqueeze(0).to(device)\n",
        "\n",
        "baseline_model.eval()\n",
        "\n",
        "with torch.no_grad():\n",
        "    output = baseline_model(msg_tensor)\n",
        "    probabilities = torch.softmax(output, dim=1)\n",
        "    spam_probability = probabilities[0, 1].item()\n",
        "\n",
        "print(f\"Probability that the message '{msg}' is spam: {spam_probability * 100:.2f}%\")"
      ]
    },
    {
      "cell_type": "markdown",
      "metadata": {
        "id": "QD1zgYJpa91f"
      },
      "source": [
        "### Part (d) [4 pt]\n",
        "\n",
        "Do you think detecting spam is an easy or difficult task?\n",
        "\n",
        "Since machine learning models are expensive to train and deploy, it is very\n",
        "important to compare our models against baseline models: a simple\n",
        "model that is easy to build and inexpensive to run that we can compare our\n",
        "recurrent neural network model against.\n",
        "\n",
        "Explain how you might build a simple baseline model. This baseline model\n",
        "can be a simple neural network (with very few weights), a hand-written algorithm,\n",
        "or any other strategy that is easy to build and test.\n",
        "\n",
        "**Do not actually build a baseline model. Instead, provide instructions on\n",
        "how to build it.**"
      ]
    },
    {
      "cell_type": "markdown",
      "source": [
        "**Answer**\n",
        "\n",
        "I think that detecting spam can be complex because you don't know what people consider as spam, or many spam emails have gotten better at sounding not like spam. For example, emails regarding sales at stores, some might prefer seeing that while others may not.\n",
        "\n",
        "I think the Bag-of-Words approach is a good idea for a baseline for spam detection because it catches important signal words while being  simple and fast. To implement this you can create a vocabulary of frequently used words from your data, then convert each email into a fixed-length vector where each position represents the count or presence of a specific word from your vocabulary. You would then train a simple classifier, where the model learns which words are most seen in spam versus actual important emails. This ignores word order and grammar but captures the key discriminative vocabulary patterns that distinguish spam (words like \"free,\" \"winner,\" \"urgent,\" \"congratulations\") from normal emails."
      ],
      "metadata": {
        "id": "vtxdMahkZsQZ"
      }
    },
    {
      "cell_type": "code",
      "source": [
        "%%shell\n",
        "jupyter nbconvert --to html /content/Lab5_Spam_Detection_Final.ipynb"
      ],
      "metadata": {
        "id": "TS1XMP_oSP36"
      },
      "execution_count": null,
      "outputs": []
    }
  ],
  "metadata": {
    "colab": {
      "provenance": []
    },
    "kernelspec": {
      "display_name": "Python 3 (ipykernel)",
      "language": "python",
      "name": "python3"
    },
    "language_info": {
      "codemirror_mode": {
        "name": "ipython",
        "version": 3
      },
      "file_extension": ".py",
      "mimetype": "text/x-python",
      "name": "python",
      "nbconvert_exporter": "python",
      "pygments_lexer": "ipython3",
      "version": "3.9.18"
    }
  },
  "nbformat": 4,
  "nbformat_minor": 0
}